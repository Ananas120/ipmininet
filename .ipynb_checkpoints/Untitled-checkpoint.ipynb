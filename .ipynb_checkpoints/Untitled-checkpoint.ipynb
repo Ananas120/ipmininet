{
 "cells": [
  {
   "cell_type": "markdown",
   "metadata": {},
   "source": [
    "# Plot network topology"
   ]
  },
  {
   "cell_type": "code",
   "execution_count": null,
   "metadata": {},
   "outputs": [],
   "source": [
    "from plot_utils import to_graphviz\n",
    "filename = 'topo_ooh.json'\n",
    "g = to_graphviz(filename, filename = filename.replace('.json', '_plot.gv'), kwargs = {'rank' : 'same'})\n",
    "g.view()\n",
    "g"
   ]
  },
  {
   "cell_type": "code",
   "execution_count": null,
   "metadata": {},
   "outputs": [],
   "source": []
  },
  {
   "cell_type": "code",
   "execution_count": 17,
   "metadata": {},
   "outputs": [
    {
     "name": "stdout",
     "output_type": "stream",
     "text": [
      "[['::/127', '101.0.5.100/31'], ['::1/127', '101.0.5.101/31']]\n"
     ]
    }
   ],
   "source": [
    "def _is_ipv6(addr):\n",
    "    return ':' in addr\n",
    "    \n",
    "def _split_addr(address):\n",
    "    ipv6 = _is_ipv6(address)\n",
    "    sep = ':' if ipv6 else '.'\n",
    "    \n",
    "    parts = []\n",
    "    for p in address.split(sep):\n",
    "        int_part = 0\n",
    "        if len(p) > 0:\n",
    "            int_part = int(p, 16 if ipv6 else 10)\n",
    "        parts.append(int_part)\n",
    "    return ipv6, parts\n",
    "\n",
    "def _build_addr(parts, is_ipv6):\n",
    "    if not is_ipv6:\n",
    "        return '.'.join([str(p) for p in parts])\n",
    "    str_parts = []\n",
    "    for p in parts:\n",
    "        str_p = '' if p == 0 else hex(p)[2:]\n",
    "        str_parts.append(str_p)\n",
    "    \n",
    "    return ':'.join(str_parts)\n",
    "\n",
    "def _create_subnets(subnet, n = 2):\n",
    "    if not isinstance(subnet, (list, tuple)): subnet = [subnet]\n",
    "    subnets = [[] for _ in range(n)]\n",
    "    for sub in subnet:\n",
    "        addr, mask_length = sub.split('/')\n",
    "        is_ipv6, addr_part = _split_addr(addr)\n",
    "        \n",
    "        addr_host = 128 - int(mask_length) if is_ipv6 else 32 - int(mask_length)\n",
    "        max_addr = 2 ** addr_host\n",
    "        if n > max_addr:\n",
    "            raise ValueError(\"You want to create {} subnets with a mask of /{} which allows only {} subnets\".format(n, mask_length, max_addr))\n",
    "        \n",
    "        for i in range(n):\n",
    "            new_addr = addr_part[:-1] + [addr_part[-1] + i]\n",
    "            new_addr = _build_addr(new_addr, is_ipv6) + '/' + mask_length\n",
    "            subnets[i].append(new_addr)\n",
    "    return subnets\n",
    "\n",
    "subnets = ['::/127', '101.0.5.100/31']\n",
    "res = _create_subnets(subnets)\n",
    "print(res)"
   ]
  },
  {
   "cell_type": "code",
   "execution_count": null,
   "metadata": {},
   "outputs": [],
   "source": []
  }
 ],
 "metadata": {
  "kernelspec": {
   "display_name": "Python 3",
   "language": "python",
   "name": "python3"
  },
  "language_info": {
   "codemirror_mode": {
    "name": "ipython",
    "version": 3
   },
   "file_extension": ".py",
   "mimetype": "text/x-python",
   "name": "python",
   "nbconvert_exporter": "python",
   "pygments_lexer": "ipython3",
   "version": "3.6.5"
  }
 },
 "nbformat": 4,
 "nbformat_minor": 4
}
